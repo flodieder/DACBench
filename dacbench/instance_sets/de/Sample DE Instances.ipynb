{
 "cells": [
  {
   "cell_type": "code",
   "execution_count": 1,
   "id": "53768bac",
   "metadata": {},
   "outputs": [],
   "source": [
    "import numpy as np"
   ]
  },
  {
   "cell_type": "code",
   "execution_count": 6,
   "id": "10e06bf0",
   "metadata": {},
   "outputs": [],
   "source": [
    "def save_de_instances(filename, n_instances=100, pop_size=18, dim=10, fcn_ids=[12, 11, 2, 23, 15, 8, 17, 20, 1, 16], fcn_names = [\"BentCigar\", \"Discus\", \"Ellipsoid\", \"Katsuura\", \"Rastrigin\", \"Rosenbrock\", \"Schaffers\", \"Schwefel\", \"Sphere\", \"Weierstrass\"], mutation_strat=\"rand1\", crossover_strat=\"bin\", crossp=0.5, lower_bound=0, upper_bound=1):\n",
    "    init_locs = np.random.randn(n_instances, pop_size, dim)\n",
    "    with open(filename, 'w') as f:\n",
    "        id_string=\"ID,dim,pop_size,fcn_name,fcn_index,mutation_strat,crossover_strat,lower_bound,upper_bound,crossp,init_loc0,init_loc1,init_loc2,init_loc3,init_loc4,init_loc5,init_loc6,init_loc7,init_loc8,init_loc9,init_loc10,init_loc11,init_loc12,init_loc13,init_loc14,init_loc15,init_loc16,init_loc17,init_loc18\\n\"\n",
    "        f.write(id_string)\n",
    "        for i in range(n_instances):\n",
    "            inst_string = f\"{i},{dim},{pop_size},{fcn_names[i%10]},{fcn_ids[i%10]},{mutation_strat},{crossover_strat},{lower_bound},{upper_bound},{crossp}\"\n",
    "            for j in range(pop_size):\n",
    "                inst_string += \",\" + str(init_locs[i][j]).replace(\"\\n\", '')\n",
    "            inst_string += \"\\n\"\n",
    "            f.write(inst_string)"
   ]
  },
  {
   "cell_type": "code",
   "execution_count": 7,
   "id": "ce8287b6",
   "metadata": {},
   "outputs": [],
   "source": [
    "save_de_instances(\"de_train.csv\")"
   ]
  },
  {
   "cell_type": "code",
   "execution_count": 8,
   "id": "7b6740ed",
   "metadata": {},
   "outputs": [],
   "source": [
    "save_de_instances(\"de_test.csv\")"
   ]
  },
  {
   "cell_type": "code",
   "execution_count": null,
   "id": "358fe066",
   "metadata": {},
   "outputs": [],
   "source": []
  }
 ],
 "metadata": {
  "kernelspec": {
   "display_name": "Python 3",
   "language": "python",
   "name": "python3"
  },
  "language_info": {
   "codemirror_mode": {
    "name": "ipython",
    "version": 3
   },
   "file_extension": ".py",
   "mimetype": "text/x-python",
   "name": "python",
   "nbconvert_exporter": "python",
   "pygments_lexer": "ipython3",
   "version": "3.6.15"
  }
 },
 "nbformat": 4,
 "nbformat_minor": 5
}
